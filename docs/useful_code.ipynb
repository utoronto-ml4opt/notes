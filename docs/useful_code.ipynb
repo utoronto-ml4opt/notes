{
 "cells": [
  {
   "cell_type": "code",
   "execution_count": null,
   "id": "003a3ab9-f56f-4a5f-b180-a2706b6c17fd",
   "metadata": {},
   "outputs": [],
   "source": [
    "#https://stackoverflow.com/questions/64184184/sympy-functions\n",
    "from sympy import IndexedBase, Symbol, log, Sum, pi\n",
    "x = IndexedBase('x', real=True)                                                                                                      \n",
    "\n",
    "n, i = symbols('n, i', integer=True, positive=True)                                                                                  \n",
    "\n",
    "theta = Symbol('theta', real=True)                                                                                                   \n",
    "\n",
    "objective = -n*log(pi) - Sum(log(1 + (x[i] - theta)**2), (i, 0, n-1))                                                                \n",
    "\n",
    "objective                                                                                                                            \n",
    "objective.diff(theta)                                                                                                                "
   ]
  }
 ],
 "metadata": {
  "kernelspec": {
   "display_name": "Python 3 (ipykernel)",
   "language": "python",
   "name": "python3"
  },
  "language_info": {
   "codemirror_mode": {
    "name": "ipython",
    "version": 3
   },
   "file_extension": ".py",
   "mimetype": "text/x-python",
   "name": "python",
   "nbconvert_exporter": "python",
   "pygments_lexer": "ipython3",
   "version": "3.10.14"
  }
 },
 "nbformat": 4,
 "nbformat_minor": 5
}
