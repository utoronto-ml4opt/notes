{
 "cells": [
  {
   "cell_type": "code",
   "execution_count": null,
   "id": "003a3ab9-f56f-4a5f-b180-a2706b6c17fd",
   "metadata": {
    "editable": true,
    "slideshow": {
     "slide_type": ""
    },
    "tags": []
   },
   "outputs": [],
   "source": [
    "#https://stackoverflow.com/questions/64184184/sympy-functions\n",
    "from sympy import IndexedBase, Symbol, log, Sum, pi\n",
    "x = IndexedBase('x', real=True)                                                                                                      \n",
    "\n",
    "n, i = symbols('n, i', integer=True, positive=True)                                                                                  \n",
    "\n",
    "theta = Symbol('theta', real=True)                                                                                                   \n",
    "\n",
    "objective = -n*log(pi) - Sum(log(1 + (x[i] - theta)**2), (i, 0, n-1))                                                                \n",
    "\n",
    "objective                                                                                                                            \n",
    "objective.diff(theta)                                                                                                                "
   ]
  },
  {
   "cell_type": "code",
   "execution_count": null,
   "id": "848fea5b-b4c7-4310-bee6-5a908b803ea2",
   "metadata": {},
   "outputs": [],
   "source": [
    "from sympy.plotting import plot3d\n",
    "from sympy.tensor.array import derive_by_array\n",
    "\n",
    "fig = plt.figure()\n",
    "ax = fig.add_subplot(projection='3d')\n",
    "ax.set_box_aspect(aspect=None, zoom=0.8)\n",
    "\n",
    "# This is the famous Branin function: https://www.sfu.ca/~ssurjano/branin.html\n",
    "a=1; b=5.1/(4*pi**2); c=5/pi; r=6; s=10; t=1/(8*pi)\n",
    "x1, x2, z = symbols('x1 x2 z')\n",
    "branin_function = a*(x2-b*x1**2+c*x1-r)**2+s*(1-t)*cos(x1)+s\n",
    "branin_function_lambda = lambdify((x1, x2), branin_function)\n",
    "# branin_function_derivative_lambda = lambdify((x1, x2), branin_function.diff(x1, x2))\n",
    "branin_function_derivative_lambda = lambdify((x1, x2), derive_by_array(branin_function, (x1, x2)))\n",
    "\n",
    "pt1 = np.array([0.0,0.0]) #,branin_function_lambda(8,12)]\n",
    "pt2 = np.array([1.0,1.0])\n",
    "pt1_val = float(branin_function_lambda(pt1[0],pt1[1]))\n",
    "pt2_val = float(np.dot(branin_function_derivative_lambda(pt1[0],pt1[1]), (pt2-pt1)) + pt1_val)\n",
    "pt1 = pt1.tolist()\n",
    "pt2 = pt2.tolist()\n",
    "print((pt1[0], pt1[1], pt1_val), (pt2[0], pt2[1], pt2_val))\n",
    "graphics(\n",
    "    surface(branin_function, (x1, -5, 15), (x2, 0, 15), use_cm=True),\n",
    "    plane(Plane((0,0,0), (15,15,15)), (x1, -5, 10), (x2, 0, 15)),\n",
    "    plane(Plane((pt1[0], pt1[1], pt1_val), (pt2[0], pt2[1], pt2_val)), (x1, -5, 10), (x2, 0, 15)),\n",
    ")\n"
   ]
  },
  {
   "cell_type": "code",
   "execution_count": null,
   "id": "734aa207-79f3-43e9-a114-770efd9ee05a",
   "metadata": {},
   "outputs": [],
   "source": [
    "# bin packing vis\n",
    "# # https://stackoverflow.com/questions/66717610/how-to-rearrange-the-small-rectangular-into-a-big-rectangular-in-bin-packing-alg\n",
    "# import matplotlib.pyplot as plt\n",
    "# from matplotlib.patches import Rectangle\n",
    "# fig = plt.figure() \n",
    "# ax = fig.add_subplot(111) \n",
    "# ax.set_axis_off()\n",
    "\n",
    "# temp_y=0\n",
    "# i=0\n",
    "# layout_height = 300\n",
    "# layout_width = 300\n",
    "\n",
    "# ax.set_xlim([0, layout_height])\n",
    "# ax.set_ylim([0, layout_width])\n",
    "\n",
    "# area_width = [[50, 46], [52], [52], [50, 48], [25, 40], [48]]\n",
    "# area_height = 25#, 75, 50, 60, 52, 72, 100, 120, 150]\n",
    "\n",
    "# # for (i,j) in zip(area_height, area_width):\n",
    "# for bin in area_width:\n",
    "#     coords = (0, temp_y)\n",
    "#     for item_width in bin:\n",
    "#         r = ax.add_patch(Rectangle(coords, item_width, area_height, edgecolor ='black',facecolor = 'red'))\n",
    "#         centerx = 0.5\n",
    "#         centery = temp_y + area_height[0]/2.0 # obviously use a different formula for different shapes\n",
    "#         plt.text(centerx, centery,'%d' % (j))\n",
    "#     temp_y = temp_y + area_height\n"
   ]
  }
 ],
 "metadata": {
  "kernelspec": {
   "display_name": "Python 3 (ipykernel)",
   "language": "python",
   "name": "python3"
  },
  "language_info": {
   "codemirror_mode": {
    "name": "ipython",
    "version": 3
   },
   "file_extension": ".py",
   "mimetype": "text/x-python",
   "name": "python",
   "nbconvert_exporter": "python",
   "pygments_lexer": "ipython3",
   "version": "3.10.14"
  }
 },
 "nbformat": 4,
 "nbformat_minor": 5
}
