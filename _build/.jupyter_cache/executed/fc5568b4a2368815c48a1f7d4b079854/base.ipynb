{
 "cells": [
  {
   "cell_type": "code",
   "execution_count": 1,
   "id": "31e8edc6-b196-4f05-8538-a261714c617b",
   "metadata": {
    "scrolled": true
   },
   "outputs": [],
   "source": [
    "from sympy import symbols\n",
    "from sympy.plotting import plot\n",
    "x = symbols('x')\n",
    "p1 = plot(x*x, show=False)\n",
    "p2 = plot(x, show=False)\n",
    "p1.append(p2[0])\n",
    "# p1\n",
    "# p1.show()"
   ]
  },
  {
   "cell_type": "code",
   "execution_count": 2,
   "id": "c3efd767-c2c6-4b43-b86e-c10d83b10745",
   "metadata": {},
   "outputs": [
    {
     "data": {
      "text/latex": [
       "$\\displaystyle - n \\log{\\left(\\pi \\right)} - \\sum_{i=0}^{n - 1} \\log{\\left(\\left(- \\theta + {x}_{i}\\right)^{2} + 1 \\right)}$"
      ],
      "text/plain": [
       "-n*log(pi) - Sum(log((-theta + x[i])**2 + 1), (i, 0, n - 1))"
      ]
     },
     "execution_count": 2,
     "metadata": {},
     "output_type": "execute_result"
    }
   ],
   "source": [
    "from sympy import IndexedBase, Symbol, log, Sum, pi\n",
    "x = IndexedBase('x', real=True)                                                                                                      \n",
    "\n",
    "n, i = symbols('n, i', integer=True, positive=True)                                                                                  \n",
    "\n",
    "theta = Symbol('theta', real=True)                                                                                                   \n",
    "\n",
    "objective = -n*log(pi) - Sum(log(1 + (x[i] - theta)**2), (i, 0, n-1))                                                                \n",
    "\n",
    "objective                                                                                                                            \n"
   ]
  },
  {
   "cell_type": "code",
   "execution_count": 3,
   "id": "df78379c-23e4-4cdc-bc4c-85d7dedee921",
   "metadata": {},
   "outputs": [
    {
     "data": {
      "text/latex": [
       "$\\displaystyle - \\sum_{i=0}^{n - 1} \\frac{2 \\theta - 2 {x}_{i}}{\\left(- \\theta + {x}_{i}\\right)^{2} + 1}$"
      ],
      "text/plain": [
       "-Sum((2*theta - 2*x[i])/((-theta + x[i])**2 + 1), (i, 0, n - 1))"
      ]
     },
     "execution_count": 3,
     "metadata": {},
     "output_type": "execute_result"
    }
   ],
   "source": [
    "objective.diff(theta)                                                                                                                "
   ]
  },
  {
   "cell_type": "code",
   "execution_count": null,
   "id": "70f62d9c-ef5a-4253-bcd6-c43294b87fe1",
   "metadata": {},
   "outputs": [],
   "source": []
  }
 ],
 "metadata": {
  "kernelspec": {
   "display_name": "Python 3 (ipykernel)",
   "language": "python",
   "name": "python3"
  },
  "language_info": {
   "codemirror_mode": {
    "name": "ipython",
    "version": 3
   },
   "file_extension": ".py",
   "mimetype": "text/x-python",
   "name": "python",
   "nbconvert_exporter": "python",
   "pygments_lexer": "ipython3",
   "version": "3.10.14"
  }
 },
 "nbformat": 4,
 "nbformat_minor": 5
}