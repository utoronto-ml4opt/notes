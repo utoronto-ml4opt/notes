{
 "cells": [
  {
   "cell_type": "code",
   "execution_count": 1,
   "id": "003a3ab9-f56f-4a5f-b180-a2706b6c17fd",
   "metadata": {},
   "outputs": [
    {
     "ename": "NameError",
     "evalue": "name 'symbols' is not defined",
     "output_type": "error",
     "traceback": [
      "\u001b[0;31m---------------------------------------------------------------------------\u001b[0m",
      "\u001b[0;31mNameError\u001b[0m                                 Traceback (most recent call last)",
      "Cell \u001b[0;32mIn[1], line 5\u001b[0m\n\u001b[1;32m      2\u001b[0m \u001b[38;5;28;01mfrom\u001b[39;00m \u001b[38;5;21;01msympy\u001b[39;00m \u001b[38;5;28;01mimport\u001b[39;00m IndexedBase, Symbol, log, Sum, pi\n\u001b[1;32m      3\u001b[0m x \u001b[38;5;241m=\u001b[39m IndexedBase(\u001b[38;5;124m'\u001b[39m\u001b[38;5;124mx\u001b[39m\u001b[38;5;124m'\u001b[39m, real\u001b[38;5;241m=\u001b[39m\u001b[38;5;28;01mTrue\u001b[39;00m)                                                                                                      \n\u001b[0;32m----> 5\u001b[0m n, i \u001b[38;5;241m=\u001b[39m \u001b[43msymbols\u001b[49m(\u001b[38;5;124m'\u001b[39m\u001b[38;5;124mn, i\u001b[39m\u001b[38;5;124m'\u001b[39m, integer\u001b[38;5;241m=\u001b[39m\u001b[38;5;28;01mTrue\u001b[39;00m, positive\u001b[38;5;241m=\u001b[39m\u001b[38;5;28;01mTrue\u001b[39;00m)                                                                                  \n\u001b[1;32m      7\u001b[0m theta \u001b[38;5;241m=\u001b[39m Symbol(\u001b[38;5;124m'\u001b[39m\u001b[38;5;124mtheta\u001b[39m\u001b[38;5;124m'\u001b[39m, real\u001b[38;5;241m=\u001b[39m\u001b[38;5;28;01mTrue\u001b[39;00m)                                                                                                   \n\u001b[1;32m      9\u001b[0m objective \u001b[38;5;241m=\u001b[39m \u001b[38;5;241m-\u001b[39mn\u001b[38;5;241m*\u001b[39mlog(pi) \u001b[38;5;241m-\u001b[39m Sum(log(\u001b[38;5;241m1\u001b[39m \u001b[38;5;241m+\u001b[39m (x[i] \u001b[38;5;241m-\u001b[39m theta)\u001b[38;5;241m*\u001b[39m\u001b[38;5;241m*\u001b[39m\u001b[38;5;241m2\u001b[39m), (i, \u001b[38;5;241m0\u001b[39m, n\u001b[38;5;241m-\u001b[39m\u001b[38;5;241m1\u001b[39m))                                                                \n",
      "\u001b[0;31mNameError\u001b[0m: name 'symbols' is not defined"
     ]
    }
   ],
   "source": [
    "#https://stackoverflow.com/questions/64184184/sympy-functions\n",
    "from sympy import IndexedBase, Symbol, log, Sum, pi\n",
    "x = IndexedBase('x', real=True)                                                                                                      \n",
    "\n",
    "n, i = symbols('n, i', integer=True, positive=True)                                                                                  \n",
    "\n",
    "theta = Symbol('theta', real=True)                                                                                                   \n",
    "\n",
    "objective = -n*log(pi) - Sum(log(1 + (x[i] - theta)**2), (i, 0, n-1))                                                                \n",
    "\n",
    "objective                                                                                                                            \n",
    "objective.diff(theta)                                                                                                                "
   ]
  }
 ],
 "metadata": {
  "kernelspec": {
   "display_name": "Python 3 (ipykernel)",
   "language": "python",
   "name": "python3"
  },
  "language_info": {
   "codemirror_mode": {
    "name": "ipython",
    "version": 3
   },
   "file_extension": ".py",
   "mimetype": "text/x-python",
   "name": "python",
   "nbconvert_exporter": "python",
   "pygments_lexer": "ipython3",
   "version": "3.10.14"
  }
 },
 "nbformat": 4,
 "nbformat_minor": 5
}