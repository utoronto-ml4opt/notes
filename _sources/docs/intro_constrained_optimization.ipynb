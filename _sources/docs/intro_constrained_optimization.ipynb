{
 "cells": [
  {
   "cell_type": "markdown",
   "id": "e1c0bdbe-27ec-4585-83df-1214eaa442cf",
   "metadata": {},
   "source": [
    "# Introduction to Constrained Continuous Optimization"
   ]
  },
  {
   "cell_type": "markdown",
   "id": "8983050e-875f-45ab-8d54-0af86a86cfdf",
   "metadata": {},
   "source": [
    "```{admonition} Learning outcomes\n",
    "After reading this note, you will be able to:\n",
    "- Define optimality conditions for constrained problems\n",
    "- Model and solve linear optimization problems\n",
    "- Model and solve non-linear optimization problems\n",
    "```"
   ]
  },
  {
   "cell_type": "markdown",
   "id": "3877fba5-bc32-4005-87ea-6aba764694c9",
   "metadata": {},
   "source": [
    "<!-- \n",
    "Constrained opt\n",
    "\n",
    "Taylor 1st order \n",
    "https://mathinsight.org/dot_product\n",
    "\n",
    "\n",
    "Constraints, polytopes, QLP illustration\n",
    "\n",
    "LP\n",
    "\n",
    "https://en.wikipedia.org/wiki/Lagrange_multiplier#Examples\n",
    "\n",
    "https://github.com/mechmotum/cyipopt/blob/master/examples/hs071_scipy_jax.py\n",
    "\n",
    "Solvers (cvxpy, ipopt)\n",
    " -->"
   ]
  }
 ],
 "metadata": {
  "kernelspec": {
   "display_name": "Python 3 (ipykernel)",
   "language": "python",
   "name": "python3"
  },
  "language_info": {
   "codemirror_mode": {
    "name": "ipython",
    "version": 3
   },
   "file_extension": ".py",
   "mimetype": "text/x-python",
   "name": "python",
   "nbconvert_exporter": "python",
   "pygments_lexer": "ipython3",
   "version": "3.10.14"
  }
 },
 "nbformat": 4,
 "nbformat_minor": 5
}
